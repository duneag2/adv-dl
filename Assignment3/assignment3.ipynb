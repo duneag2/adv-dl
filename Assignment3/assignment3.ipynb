{
  "nbformat": 4,
  "nbformat_minor": 0,
  "metadata": {
    "colab": {
      "provenance": []
    },
    "kernelspec": {
      "name": "python3",
      "display_name": "Python 3"
    },
    "language_info": {
      "name": "python"
    }
  },
  "cells": [
    {
      "cell_type": "markdown",
      "source": [
        "## Advanced Deep Learning\n",
        "### Assignment #3\n",
        "### Lecturer: Seungeun Lee"
      ],
      "metadata": {
        "id": "oYjZphkV9hI8"
      }
    },
    {
      "cell_type": "markdown",
      "source": [
        "### Today's topic: Audio analysis\n",
        "##### 1. Review AASIST paper: https://arxiv.org/abs/2110.01200\n",
        "##### 2. Follow the github link below to construct an AASIST model\n",
        "##### https://github.com/clovaai/aasist\n",
        "##### Note. Use our lab's computing devices to utilize ASVspoof 2019 dataset"
      ],
      "metadata": {
        "id": "i0aJnUZ99lqq"
      }
    },
    {
      "cell_type": "code",
      "source": [],
      "metadata": {
        "id": "OpvqGLob9har"
      },
      "execution_count": null,
      "outputs": []
    }
  ]
}