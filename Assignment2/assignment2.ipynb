{
  "nbformat": 4,
  "nbformat_minor": 0,
  "metadata": {
    "colab": {
      "provenance": []
    },
    "kernelspec": {
      "name": "python3",
      "display_name": "Python 3"
    },
    "language_info": {
      "name": "python"
    }
  },
  "cells": [
    {
      "cell_type": "markdown",
      "source": [
        "## Advanced Deep Learning\n",
        "### Assignment #2\n",
        "### Lecturer: Seungeun Lee"
      ],
      "metadata": {
        "id": "qHafpS507jZS"
      }
    },
    {
      "cell_type": "markdown",
      "source": [
        "### Today's topic: Image segmentation\n",
        "##### 1. Review U-Net paper: https://arxiv.org/abs/1505.04597\n",
        "##### 2. Follow the github link below to construct an U-Net model\n",
        "##### https://github.com/usuyama/pytorch-unet"
      ],
      "metadata": {
        "id": "F1awGVy57lmF"
      }
    },
    {
      "cell_type": "code",
      "source": [],
      "metadata": {
        "id": "YshPZfoB7kGr"
      },
      "execution_count": null,
      "outputs": []
    }
  ]
}