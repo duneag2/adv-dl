{
  "nbformat": 4,
  "nbformat_minor": 0,
  "metadata": {
    "colab": {
      "provenance": []
    },
    "kernelspec": {
      "name": "python3",
      "display_name": "Python 3"
    },
    "language_info": {
      "name": "python"
    }
  },
  "cells": [
    {
      "cell_type": "markdown",
      "source": [
        "## Advanced Deep Learning\n",
        "### Assignment #4\n",
        "### Lecturer: Seungeun Lee"
      ],
      "metadata": {
        "id": "oYjZphkV9hI8"
      }
    },
    {
      "cell_type": "markdown",
      "source": [
        "### Today's topic: Deep Q Network (DQN)\n",
        "##### 1. Review DQN through Prof. Oh's Youtube Lectures:\n",
        "##### https://www.youtube.com/watch?v=HXIbrL-glpU&list=PLvbUC2Zh5oJtYXow4jawpZJ2xBel6vGhC\n",
        "##### 2. Follow the github link below to construct a DQN model\n",
        "##### https://pytorch.org/tutorials/intermediate/reinforcement_q_learning.html"
      ],
      "metadata": {
        "id": "i0aJnUZ99lqq"
      }
    },
    {
      "cell_type": "code",
      "source": [],
      "metadata": {
        "id": "OpvqGLob9har"
      },
      "execution_count": null,
      "outputs": []
    }
  ]
}